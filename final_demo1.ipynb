{
 "cells": [
  {
   "cell_type": "code",
   "execution_count": 1,
   "id": "b7f043ee",
   "metadata": {},
   "outputs": [
    {
     "name": "stderr",
     "output_type": "stream",
     "text": [
      "/home/anubhav/anaconda3/envs/Clone/lib/python3.9/site-packages/tqdm/auto.py:21: TqdmWarning: IProgress not found. Please update jupyter and ipywidgets. See https://ipywidgets.readthedocs.io/en/stable/user_install.html\n",
      "  from .autonotebook import tqdm as notebook_tqdm\n"
     ]
    }
   ],
   "source": [
    "import os\n",
    "import torch\n",
    "from openvoice import se_extractor\n",
    "from openvoice.api import BaseSpeakerTTS, ToneColorConverter"
   ]
  },
  {
   "cell_type": "code",
   "execution_count": 2,
   "id": "aacad912",
   "metadata": {},
   "outputs": [
    {
     "name": "stderr",
     "output_type": "stream",
     "text": [
      "/home/anubhav/anaconda3/envs/Clone/lib/python3.9/site-packages/torch/nn/utils/weight_norm.py:143: FutureWarning: `torch.nn.utils.weight_norm` is deprecated in favor of `torch.nn.utils.parametrizations.weight_norm`.\n",
      "  WeightNorm.apply(module, name, dim)\n"
     ]
    },
    {
     "name": "stdout",
     "output_type": "stream",
     "text": [
      "Loaded checkpoint 'checkpoints_v3/base_speakers/EN/checkpoint.pth'\n",
      "missing/unexpected keys: [] []\n",
      "Loaded checkpoint 'checkpoints_v3/converter/checkpoint.pth'\n",
      "missing/unexpected keys: [] []\n"
     ]
    }
   ],
   "source": [
    "ckpt_base = 'checkpoints_v3/base_speakers/EN'\n",
    "ckpt_converter = 'checkpoints_v3/converter'\n",
    "device=\"cuda:0\" if torch.cuda.is_available() else \"cpu\"\n",
    "output_dir = 'outputs_v3'\n",
    "\n",
    "base_speaker_tts = BaseSpeakerTTS(f'{ckpt_base}/config.json', device=device)\n",
    "base_speaker_tts.load_ckpt(f'{ckpt_base}/checkpoint.pth')\n",
    "\n",
    "tone_color_converter = ToneColorConverter(f'{ckpt_converter}/config.json', device=device)\n",
    "tone_color_converter.load_ckpt(f'{ckpt_converter}/checkpoint.pth')\n",
    "\n",
    "os.makedirs(output_dir, exist_ok=True)"
   ]
  },
  {
   "cell_type": "markdown",
   "id": "61fc465a",
   "metadata": {},
   "source": [
    "we can chose between en_default_se.pth , en_style_se.pth, en-au.pth, en-br.pth, en-deault.pth, en-india.pth, en-newest.pth, en-uspth, "
   ]
  },
  {
   "cell_type": "code",
   "execution_count": 3,
   "id": "63ff6273",
   "metadata": {},
   "outputs": [],
   "source": [
    "source_se = torch.load(f'{ckpt_base}/en-us.pth').to(device) #Here we select the accent"
   ]
  },
  {
   "cell_type": "code",
   "execution_count": null,
   "id": "ceb2c5cb",
   "metadata": {},
   "outputs": [],
   "source": [
    "**Try with different styles and speed.** The style can be controlled by the `speaker` parameter in the `base_speaker_tts.tts` method. Available choices: friendly, cheerful, excited, sad, angry, terrified, shouting, whispering. Note that the tone color embedding need to be updated. The speed can be controlled by the `speed` parameter. Let's try whispering with speed 0.9.\n"
   ]
  },
  {
   "cell_type": "markdown",
   "id": "e1509c08",
   "metadata": {},
   "source": []
  },
  {
   "cell_type": "code",
   "execution_count": 6,
   "id": "1d701188",
   "metadata": {},
   "outputs": [
    {
     "name": "stdout",
     "output_type": "stream",
     "text": [
      "OpenVoice version: v1\n",
      "[(0.0, 8.21), (9.39, 12.946), (13.262, 29.49225)]\n",
      "after vad: dur = 27.995986394557825\n",
      "Speaker embedding saved to speaker_embeddings/demo_speaker2_se.pth\n"
     ]
    }
   ],
   "source": [
    "# saving a new embedding, from the user, to be used in the synthesis\n",
    "import os\n",
    "import torch\n",
    "from pathlib import Path\n",
    "\n",
    "# After extracting the target speaker embeddings\n",
    "reference_speaker = 'resources/demo_speaker2.mp3'  # This is the voice you want to clone\n",
    "target_se, audio_name = se_extractor.get_se(reference_speaker, tone_color_converter, target_dir='processed', vad=True)\n",
    "\n",
    "# Create a directory to save speaker embeddings if it doesn't exist\n",
    "embeddings_dir = 'speaker_embeddings'\n",
    "os.makedirs(embeddings_dir, exist_ok=True)\n",
    "\n",
    "\n",
    "# Save the target speaker embeddings\n",
    "embedding_filename = Path(reference_speaker).stem  # Get filename without extension\n",
    "embedding_path = f'{embeddings_dir}/{embedding_filename}_se.pth'\n",
    "torch.save(target_se, embedding_path)\n",
    "print(f\"Speaker embedding saved to {embedding_path}\")\n",
    "\n",
    "# Later, you can load these embeddings instead of extracting them again\n",
    "target_se = torch.load(embedding_path).to(device)"
   ]
  },
  {
   "cell_type": "code",
   "execution_count": null,
   "id": "7463cd3c",
   "metadata": {},
   "outputs": [],
   "source": [
    "# To load the saved embeddings\n",
    "embedding_path = f'speaker_embeddings/ryanreynolds_se.pth'\n",
    "target_se = torch.load(embedding_path).to(device)"
   ]
  },
  {
   "cell_type": "code",
   "execution_count": 11,
   "id": "73dc1259",
   "metadata": {},
   "outputs": [],
   "source": [
    "save_path = f'{output_dir}/output_en_freddie_cheerful.wav' #name of the output file\n",
    "\n",
    "# Run the base speaker tts\n",
    "text = \"Steve walks warily down the street. With the brim pulled way down low. Ain't no sound but the sound of his feet. Machine guns ready to go\"\n",
    "src_path = f'{output_dir}/tmp.wav'\n",
    "base_speaker_tts.tts(text, src_path, speaker='default', language='English', speed=0.9) #speaker arg = emotion\n",
    "\n",
    "# Run the tone color converter\n",
    "encode_message = \"@MyShell\"\n",
    "tone_color_converter.convert(\n",
    "    audio_src_path=src_path, \n",
    "    src_se=source_se, \n",
    "    tgt_se=target_se, \n",
    "    output_path=save_path,\n",
    "    message=encode_message)"
   ]
  }
 ],
 "metadata": {
  "kernelspec": {
   "display_name": "Clone",
   "language": "python",
   "name": "python3"
  },
  "language_info": {
   "codemirror_mode": {
    "name": "ipython",
    "version": 3
   },
   "file_extension": ".py",
   "mimetype": "text/x-python",
   "name": "python",
   "nbconvert_exporter": "python",
   "pygments_lexer": "ipython3",
   "version": "3.9.21"
  }
 },
 "nbformat": 4,
 "nbformat_minor": 5
}
